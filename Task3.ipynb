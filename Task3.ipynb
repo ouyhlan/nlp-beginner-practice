{
  "nbformat": 4,
  "nbformat_minor": 0,
  "metadata": {
    "colab": {
      "name": "Task3",
      "provenance": [],
      "collapsed_sections": [],
      "machine_shape": "hm"
    },
    "kernelspec": {
      "name": "python3",
      "display_name": "Python 3"
    },
    "language_info": {
      "name": "python"
    },
    "accelerator": "GPU"
  },
  "cells": [
    {
      "cell_type": "code",
      "metadata": {
        "colab": {
          "base_uri": "https://localhost:8080/"
        },
        "id": "M4sqCzFz570H",
        "outputId": "b9e552d5-70ae-44da-8b9d-40349c687ea5"
      },
      "source": [
        "from google.colab import drive\n",
        "drive.mount('/content/drive')"
      ],
      "execution_count": null,
      "outputs": [
        {
          "output_type": "stream",
          "name": "stdout",
          "text": [
            "Mounted at /content/drive\n"
          ]
        }
      ]
    },
    {
      "cell_type": "code",
      "metadata": {
        "id": "Daw725fk0Di7"
      },
      "source": [
        "import os\n",
        "os.chdir('drive/MyDrive/Colab/Task3')"
      ],
      "execution_count": null,
      "outputs": []
    },
    {
      "cell_type": "code",
      "metadata": {
        "id": "QTITseLh7uAO"
      },
      "source": [
        "!nvidia-smi"
      ],
      "execution_count": null,
      "outputs": []
    },
    {
      "cell_type": "markdown",
      "metadata": {
        "id": "u2b-C0AV456O"
      },
      "source": [
        "## 1.数据处理"
      ]
    },
    {
      "cell_type": "markdown",
      "metadata": {
        "id": "UKgoE84kEt2I"
      },
      "source": [
        "### 1.1 数据预处理"
      ]
    },
    {
      "cell_type": "code",
      "metadata": {
        "colab": {
          "base_uri": "https://localhost:8080/"
        },
        "id": "5MN26CKY5DwR",
        "outputId": "640cc27a-88e6-4db8-d961-49fe24ebf009"
      },
      "source": [
        "import zipfile\n",
        "\n",
        "original_zip_file = zipfile.ZipFile('dataset/snli_1.0.zip')\n",
        "original_zip_file.namelist()"
      ],
      "execution_count": null,
      "outputs": [
        {
          "output_type": "execute_result",
          "data": {
            "text/plain": [
              "['snli_1.0/',\n",
              " 'snli_1.0/.DS_Store',\n",
              " '__MACOSX/',\n",
              " '__MACOSX/snli_1.0/',\n",
              " '__MACOSX/snli_1.0/._.DS_Store',\n",
              " 'snli_1.0/Icon\\r',\n",
              " '__MACOSX/snli_1.0/._Icon\\r',\n",
              " 'snli_1.0/README.txt',\n",
              " '__MACOSX/snli_1.0/._README.txt',\n",
              " 'snli_1.0/snli_1.0_dev.jsonl',\n",
              " 'snli_1.0/snli_1.0_dev.txt',\n",
              " 'snli_1.0/snli_1.0_test.jsonl',\n",
              " 'snli_1.0/snli_1.0_test.txt',\n",
              " 'snli_1.0/snli_1.0_train.jsonl',\n",
              " 'snli_1.0/snli_1.0_train.txt',\n",
              " '__MACOSX/._snli_1.0']"
            ]
          },
          "metadata": {},
          "execution_count": 4
        }
      ]
    },
    {
      "cell_type": "code",
      "metadata": {
        "colab": {
          "base_uri": "https://localhost:8080/",
          "height": 1000
        },
        "id": "llSLUuhl5oYb",
        "outputId": "6e4a2aed-8326-49bb-f06b-a3cb21e9e52f"
      },
      "source": [
        "import pandas as pd\n",
        "\n",
        "with original_zip_file.open('snli_1.0/snli_1.0_dev.txt') as fp:\n",
        "    data_example = pd.read_csv(fp, sep='\\t')\n",
        "data_example"
      ],
      "execution_count": null,
      "outputs": [
        {
          "output_type": "execute_result",
          "data": {
            "text/html": [
              "<div>\n",
              "<style scoped>\n",
              "    .dataframe tbody tr th:only-of-type {\n",
              "        vertical-align: middle;\n",
              "    }\n",
              "\n",
              "    .dataframe tbody tr th {\n",
              "        vertical-align: top;\n",
              "    }\n",
              "\n",
              "    .dataframe thead th {\n",
              "        text-align: right;\n",
              "    }\n",
              "</style>\n",
              "<table border=\"1\" class=\"dataframe\">\n",
              "  <thead>\n",
              "    <tr style=\"text-align: right;\">\n",
              "      <th></th>\n",
              "      <th>gold_label</th>\n",
              "      <th>sentence1_binary_parse</th>\n",
              "      <th>sentence2_binary_parse</th>\n",
              "      <th>sentence1_parse</th>\n",
              "      <th>sentence2_parse</th>\n",
              "      <th>sentence1</th>\n",
              "      <th>sentence2</th>\n",
              "      <th>captionID</th>\n",
              "      <th>pairID</th>\n",
              "      <th>label1</th>\n",
              "      <th>label2</th>\n",
              "      <th>label3</th>\n",
              "      <th>label4</th>\n",
              "      <th>label5</th>\n",
              "    </tr>\n",
              "  </thead>\n",
              "  <tbody>\n",
              "    <tr>\n",
              "      <th>0</th>\n",
              "      <td>neutral</td>\n",
              "      <td>( ( Two women ) ( ( are ( embracing ( while ( ...</td>\n",
              "      <td>( ( The sisters ) ( ( are ( ( hugging goodbye ...</td>\n",
              "      <td>(ROOT (S (NP (CD Two) (NNS women)) (VP (VBP ar...</td>\n",
              "      <td>(ROOT (S (NP (DT The) (NNS sisters)) (VP (VBP ...</td>\n",
              "      <td>Two women are embracing while holding to go pa...</td>\n",
              "      <td>The sisters are hugging goodbye while holding ...</td>\n",
              "      <td>4705552913.jpg#2</td>\n",
              "      <td>4705552913.jpg#2r1n</td>\n",
              "      <td>neutral</td>\n",
              "      <td>entailment</td>\n",
              "      <td>neutral</td>\n",
              "      <td>neutral</td>\n",
              "      <td>neutral</td>\n",
              "    </tr>\n",
              "    <tr>\n",
              "      <th>1</th>\n",
              "      <td>entailment</td>\n",
              "      <td>( ( Two women ) ( ( are ( embracing ( while ( ...</td>\n",
              "      <td>( ( Two woman ) ( ( are ( holding packages ) )...</td>\n",
              "      <td>(ROOT (S (NP (CD Two) (NNS women)) (VP (VBP ar...</td>\n",
              "      <td>(ROOT (S (NP (CD Two) (NN woman)) (VP (VBP are...</td>\n",
              "      <td>Two women are embracing while holding to go pa...</td>\n",
              "      <td>Two woman are holding packages.</td>\n",
              "      <td>4705552913.jpg#2</td>\n",
              "      <td>4705552913.jpg#2r1e</td>\n",
              "      <td>entailment</td>\n",
              "      <td>entailment</td>\n",
              "      <td>entailment</td>\n",
              "      <td>entailment</td>\n",
              "      <td>entailment</td>\n",
              "    </tr>\n",
              "    <tr>\n",
              "      <th>2</th>\n",
              "      <td>contradiction</td>\n",
              "      <td>( ( Two women ) ( ( are ( embracing ( while ( ...</td>\n",
              "      <td>( ( The men ) ( ( are ( fighting ( outside ( a...</td>\n",
              "      <td>(ROOT (S (NP (CD Two) (NNS women)) (VP (VBP ar...</td>\n",
              "      <td>(ROOT (S (NP (DT The) (NNS men)) (VP (VBP are)...</td>\n",
              "      <td>Two women are embracing while holding to go pa...</td>\n",
              "      <td>The men are fighting outside a deli.</td>\n",
              "      <td>4705552913.jpg#2</td>\n",
              "      <td>4705552913.jpg#2r1c</td>\n",
              "      <td>contradiction</td>\n",
              "      <td>contradiction</td>\n",
              "      <td>contradiction</td>\n",
              "      <td>contradiction</td>\n",
              "      <td>contradiction</td>\n",
              "    </tr>\n",
              "    <tr>\n",
              "      <th>3</th>\n",
              "      <td>entailment</td>\n",
              "      <td>( ( ( Two ( young children ) ) ( in ( ( ( ( ( ...</td>\n",
              "      <td>( ( ( Two kids ) ( in ( numbered jerseys ) ) )...</td>\n",
              "      <td>(ROOT (S (NP (NP (CD Two) (JJ young) (NNS chil...</td>\n",
              "      <td>(ROOT (S (NP (NP (CD Two) (NNS kids)) (PP (IN ...</td>\n",
              "      <td>Two young children in blue jerseys, one with t...</td>\n",
              "      <td>Two kids in numbered jerseys wash their hands.</td>\n",
              "      <td>2407214681.jpg#0</td>\n",
              "      <td>2407214681.jpg#0r1e</td>\n",
              "      <td>entailment</td>\n",
              "      <td>entailment</td>\n",
              "      <td>entailment</td>\n",
              "      <td>entailment</td>\n",
              "      <td>entailment</td>\n",
              "    </tr>\n",
              "    <tr>\n",
              "      <th>4</th>\n",
              "      <td>neutral</td>\n",
              "      <td>( ( ( Two ( young children ) ) ( in ( ( ( ( ( ...</td>\n",
              "      <td>( ( ( Two kids ) ( at ( a ballgame ) ) ) ( ( w...</td>\n",
              "      <td>(ROOT (S (NP (NP (CD Two) (JJ young) (NNS chil...</td>\n",
              "      <td>(ROOT (S (NP (NP (CD Two) (NNS kids)) (PP (IN ...</td>\n",
              "      <td>Two young children in blue jerseys, one with t...</td>\n",
              "      <td>Two kids at a ballgame wash their hands.</td>\n",
              "      <td>2407214681.jpg#0</td>\n",
              "      <td>2407214681.jpg#0r1n</td>\n",
              "      <td>neutral</td>\n",
              "      <td>neutral</td>\n",
              "      <td>neutral</td>\n",
              "      <td>entailment</td>\n",
              "      <td>entailment</td>\n",
              "    </tr>\n",
              "    <tr>\n",
              "      <th>...</th>\n",
              "      <td>...</td>\n",
              "      <td>...</td>\n",
              "      <td>...</td>\n",
              "      <td>...</td>\n",
              "      <td>...</td>\n",
              "      <td>...</td>\n",
              "      <td>...</td>\n",
              "      <td>...</td>\n",
              "      <td>...</td>\n",
              "      <td>...</td>\n",
              "      <td>...</td>\n",
              "      <td>...</td>\n",
              "      <td>...</td>\n",
              "      <td>...</td>\n",
              "    </tr>\n",
              "    <tr>\n",
              "      <th>9995</th>\n",
              "      <td>-</td>\n",
              "      <td>( ( ( A ( small girl ) ) ( wearing ( a ( pink ...</td>\n",
              "      <td>( ( The girl ) ( ( is ( sitting ( on ( ( a ( c...</td>\n",
              "      <td>(ROOT (S (NP (NP (DT A) (JJ small) (NN girl)) ...</td>\n",
              "      <td>(ROOT (S (NP (DT The) (NN girl)) (VP (VBZ is) ...</td>\n",
              "      <td>A small girl wearing a pink jacket is riding o...</td>\n",
              "      <td>The girl is sitting on a carved horse made of ...</td>\n",
              "      <td>77063034.jpg#3</td>\n",
              "      <td>77063034.jpg#3r1n</td>\n",
              "      <td>neutral</td>\n",
              "      <td>contradiction</td>\n",
              "      <td>entailment</td>\n",
              "      <td>contradiction</td>\n",
              "      <td>NaN</td>\n",
              "    </tr>\n",
              "    <tr>\n",
              "      <th>9996</th>\n",
              "      <td>contradiction</td>\n",
              "      <td>( ( ( A ( small girl ) ) ( wearing ( a ( pink ...</td>\n",
              "      <td>( ( The girl ) ( ( is ( moving ( at ( ( the sp...</td>\n",
              "      <td>(ROOT (S (NP (NP (DT A) (JJ small) (NN girl)) ...</td>\n",
              "      <td>(ROOT (S (NP (DT The) (NN girl)) (VP (VBZ is) ...</td>\n",
              "      <td>A small girl wearing a pink jacket is riding o...</td>\n",
              "      <td>The girl is moving at the speed of light.</td>\n",
              "      <td>77063034.jpg#3</td>\n",
              "      <td>77063034.jpg#3r1c</td>\n",
              "      <td>contradiction</td>\n",
              "      <td>contradiction</td>\n",
              "      <td>contradiction</td>\n",
              "      <td>contradiction</td>\n",
              "      <td>contradiction</td>\n",
              "    </tr>\n",
              "    <tr>\n",
              "      <th>9997</th>\n",
              "      <td>entailment</td>\n",
              "      <td>( ( ( A ( young girl ) ) ( with ( ( ( ( ( ( bl...</td>\n",
              "      <td>( People ( in ( a ( water fountain ) ) ) )</td>\n",
              "      <td>(ROOT (NP (NP (DT A) (JJ young) (NN girl)) (PP...</td>\n",
              "      <td>(ROOT (NP (NP (NNS People)) (PP (IN in) (NP (D...</td>\n",
              "      <td>A young girl with blue and pink ribbons in her...</td>\n",
              "      <td>People in a water fountain</td>\n",
              "      <td>4805835848.jpg#0</td>\n",
              "      <td>4805835848.jpg#0r1e</td>\n",
              "      <td>entailment</td>\n",
              "      <td>entailment</td>\n",
              "      <td>entailment</td>\n",
              "      <td>entailment</td>\n",
              "      <td>entailment</td>\n",
              "    </tr>\n",
              "    <tr>\n",
              "      <th>9998</th>\n",
              "      <td>contradiction</td>\n",
              "      <td>( ( ( A ( young girl ) ) ( with ( ( ( ( ( ( bl...</td>\n",
              "      <td>( ( ( A ( young girl ) ) knits ) ( a sweater ) )</td>\n",
              "      <td>(ROOT (NP (NP (DT A) (JJ young) (NN girl)) (PP...</td>\n",
              "      <td>(ROOT (NP (NP (DT A) (JJ young) (NN girl)) (NP...</td>\n",
              "      <td>A young girl with blue and pink ribbons in her...</td>\n",
              "      <td>A young girl knits a sweater</td>\n",
              "      <td>4805835848.jpg#0</td>\n",
              "      <td>4805835848.jpg#0r1c</td>\n",
              "      <td>contradiction</td>\n",
              "      <td>contradiction</td>\n",
              "      <td>entailment</td>\n",
              "      <td>contradiction</td>\n",
              "      <td>neutral</td>\n",
              "    </tr>\n",
              "    <tr>\n",
              "      <th>9999</th>\n",
              "      <td>neutral</td>\n",
              "      <td>( ( ( A ( young girl ) ) ( with ( ( ( ( ( ( bl...</td>\n",
              "      <td>( ( A ( young mother ) ) ( tries ( to ( ( ( gr...</td>\n",
              "      <td>(ROOT (NP (NP (DT A) (JJ young) (NN girl)) (PP...</td>\n",
              "      <td>(ROOT (S (NP (DT A) (JJ young) (NN mother)) (V...</td>\n",
              "      <td>A young girl with blue and pink ribbons in her...</td>\n",
              "      <td>A young mother tries to grab her topless child...</td>\n",
              "      <td>4805835848.jpg#0</td>\n",
              "      <td>4805835848.jpg#0r1n</td>\n",
              "      <td>neutral</td>\n",
              "      <td>contradiction</td>\n",
              "      <td>neutral</td>\n",
              "      <td>neutral</td>\n",
              "      <td>entailment</td>\n",
              "    </tr>\n",
              "  </tbody>\n",
              "</table>\n",
              "<p>10000 rows × 14 columns</p>\n",
              "</div>"
            ],
            "text/plain": [
              "         gold_label  ...         label5\n",
              "0           neutral  ...        neutral\n",
              "1        entailment  ...     entailment\n",
              "2     contradiction  ...  contradiction\n",
              "3        entailment  ...     entailment\n",
              "4           neutral  ...     entailment\n",
              "...             ...  ...            ...\n",
              "9995              -  ...            NaN\n",
              "9996  contradiction  ...  contradiction\n",
              "9997     entailment  ...     entailment\n",
              "9998  contradiction  ...        neutral\n",
              "9999        neutral  ...     entailment\n",
              "\n",
              "[10000 rows x 14 columns]"
            ]
          },
          "metadata": {},
          "execution_count": 5
        }
      ]
    },
    {
      "cell_type": "markdown",
      "metadata": {
        "id": "sGX4m1WAEywc"
      },
      "source": [
        "从上面可以看到，我们需要的数据为gold_label sentence_1 sentence_2"
      ]
    },
    {
      "cell_type": "code",
      "metadata": {
        "id": "maT6rR3QGM3h"
      },
      "source": [
        "def readFromZipFile(path):\n",
        "    with original_zip_file.open(path) as fp:\n",
        "        datas = pd.read_csv(fp, sep='\\t')\n",
        "        datas = datas[['gold_label', 'sentence1', 'sentence2']]\n",
        "    return datas"
      ],
      "execution_count": null,
      "outputs": []
    },
    {
      "cell_type": "markdown",
      "metadata": {
        "id": "PpQS6uKgFZRG"
      },
      "source": [
        "### 1.2 统计句子长度分布"
      ]
    },
    {
      "cell_type": "code",
      "metadata": {
        "colab": {
          "base_uri": "https://localhost:8080/",
          "height": 316
        },
        "id": "k0olb8g6FYio",
        "outputId": "f63f8a50-0b5d-4eb6-8b62-9dcc07498919"
      },
      "source": [
        "import nltk\n",
        "import matplotlib.pyplot as plt\n",
        "nltk.download('punkt')\n",
        "\n",
        "# 统计句子长度分布\n",
        "train_datas = readFromZipFile('snli_1.0/snli_1.0_train.txt')\n",
        "len_arr = []\n",
        "for x in train_datas['sentence1']:\n",
        "    if isinstance(x, str):\n",
        "        len_arr.append(len(nltk.word_tokenize(x)))\n",
        "\n",
        "for x in train_datas['sentence2']:\n",
        "    if isinstance(x, str):\n",
        "        len_arr.append(len(nltk.word_tokenize(x)))\n",
        "plt.hist(len_arr)\n",
        "print(max(len_arr))"
      ],
      "execution_count": null,
      "outputs": [
        {
          "output_type": "stream",
          "name": "stdout",
          "text": [
            "[nltk_data] Downloading package punkt to /root/nltk_data...\n",
            "[nltk_data]   Unzipping tokenizers/punkt.zip.\n",
            "82\n"
          ]
        },
        {
          "output_type": "display_data",
          "data": {
            "image/png": "[encoded data removed]",
            "text/plain": [
              "<Figure size 432x288 with 1 Axes>"
            ]
          },
          "metadata": {
            "needs_background": "light"
          }
        }
      ]
    },
    {
      "cell_type": "markdown",
      "metadata": {
        "id": "I4ZrJYFnLROW"
      },
      "source": [
        "虽然训练集最长的句子长度为82，但绝大部分句子不超过40，考虑到lstm的运行效率，我觉得padding长度为30，剩余部分将直接进行截断。"
      ]
    },
    {
      "cell_type": "markdown",
      "metadata": {
        "id": "PVLGeeTcLjvU"
      },
      "source": [
        "### 1.3 建立词表"
      ]
    },
    {
      "cell_type": "markdown",
      "metadata": {
        "id": "N9EGzOFWy089"
      },
      "source": [
        "预训练词向量采用的是glove"
      ]
    },
    {
      "cell_type": "code",
      "metadata": {
        "colab": {
          "base_uri": "https://localhost:8080/"
        },
        "id": "h5DVhdFWLlkP",
        "outputId": "19030669-9550-4d65-8264-da0c77f8ce65"
      },
      "source": [
        "import pandas as pd\n",
        "import numpy as np\n",
        "import nltk\n",
        "\n",
        "nltk.download(\"punkt\")\n",
        "\n",
        "# 建立词表\n",
        "class VocabProcessor():\n",
        "    def run(self, train_path=\"snli_1.0/snli_1.0_train.txt\", glove_path=\"../glove/glove.6B.300d.txt\"):\n",
        "        glove = self.processGlove(glove_path)\n",
        "        vocab = self.buildVocab(train_path, glove)\n",
        "        return vocab    \n",
        "\n",
        "    # 读取GloVe文件\n",
        "    def processGlove(self, glove_path):\n",
        "        word2idx = {}\n",
        "        vectors = []\n",
        "        with open(glove_path) as fp:\n",
        "            lines = fp.readlines()\n",
        "            \n",
        "            for i, line in enumerate(lines):\n",
        "                line = line.strip('\\n').split()\n",
        "                word2idx[line[0]] = i \n",
        "                vectors.append(np.array(list(map(float, line[1:])), dtype=np.float32))\n",
        "            fp.close()\n",
        "        \n",
        "        return {\"word2idx\":word2idx, \"glove_vectors\":vectors}\n",
        "\n",
        "    # 利用训练集建立词表\n",
        "    def buildVocab(self, train_path, glove):\n",
        "        vocab = ['<pad>', '<unk>']\n",
        "        word2idx = {'<pad>':0, '<unk>':1}\n",
        "        \n",
        "        datas = readFromZipFile(train_path)\n",
        "\n",
        "        curr_idx = 2\n",
        "        for index, line in datas.iterrows():\n",
        "            # 判断sentence1和sentence2是否是合法的字符串\n",
        "            if not isinstance(line['sentence1'], str) or not isinstance(line['sentence2'], str):\n",
        "                continue\n",
        "            \n",
        "            # 合并进行处理\n",
        "            cur_line = line['sentence1'] + ' ' + line['sentence2']\n",
        "\n",
        "            # 首先进行分词\n",
        "            text = nltk.word_tokenize(cur_line)\n",
        "\n",
        "            # 逐个词进行判断\n",
        "            for word in text:\n",
        "                # 如果词不在glove的词表里或词已经在词表里，则跳过\n",
        "                if not (word in glove[\"word2idx\"]) or word in word2idx:\n",
        "                    continue\n",
        "                else:\n",
        "                    vocab.append(word)\n",
        "                    word2idx[word] = curr_idx\n",
        "                    curr_idx = curr_idx + 1\n",
        "\n",
        "        \n",
        "        # 建立词向量大矩阵\n",
        "        glove_vectors = np.zeros((len(vocab), 300), dtype=np.float32)\n",
        "\n",
        "        # 随机初始化<unk>\n",
        "        glove_vectors[1] = np.random.randn((300))\n",
        "\n",
        "        for i in range(2, len(vocab)):\n",
        "            word = vocab[i]\n",
        "            glove_idx = glove[\"word2idx\"][word]\n",
        "            glove_vectors[i] = glove[\"glove_vectors\"][glove_idx]\n",
        "\n",
        "        return {\"word2idx\":word2idx, \"glove_vectors\":glove_vectors}"
      ],
      "execution_count": null,
      "outputs": [
        {
          "output_type": "stream",
          "name": "stdout",
          "text": [
            "[nltk_data] Downloading package punkt to /root/nltk_data...\n",
            "[nltk_data]   Package punkt is already up-to-date!\n"
          ]
        }
      ]
    },
    {
      "cell_type": "code",
      "metadata": {
        "id": "vgDehoRl14I9"
      },
      "source": [
        "vocab_processor = VocabProcessor()\n",
        "glove_vocab = vocab_processor.run()"
      ],
      "execution_count": null,
      "outputs": []
    },
    {
      "cell_type": "markdown",
      "metadata": {
        "id": "VaG8X7MK2Dmf"
      },
      "source": [
        "### 1.5 向量化数据集\n",
        "标签编码：\n",
        "- neutral - 0\n",
        "- contradiction - 1\n",
        "- entailment - 2"
      ]
    },
    {
      "cell_type": "code",
      "metadata": {
        "id": "XueQUQFv2HL0"
      },
      "source": [
        "import torch.utils.data\n",
        "\n",
        "class SNLIDataset(torch.utils.data.Dataset):\n",
        "    label_dict = {\"neutral\":0, \n",
        "                  \"contradiction\":1, \n",
        "                  \"entailment\":2}\n",
        "    \n",
        "    \n",
        "    def __init__(self, path, vocab, padding_length):\n",
        "        super(SNLIDataset).__init__()\n",
        "        self.datas = []\n",
        "        self.padding_length = padding_length\n",
        "        self.vocab = vocab\n",
        "        datas = readFromZipFile(path)\n",
        "\n",
        "        for index, line in datas.iterrows():\n",
        "             # 判断数据是否合法\n",
        "            if not isinstance(line['sentence1'], str) or not isinstance(line['sentence2'], str) or line[\"gold_label\"] not in self.label_dict:\n",
        "                continue\n",
        "\n",
        "            self.datas.append({\"sentence1\":self._tokenize(line['sentence1']),\n",
        "                               \"sentence2\":self._tokenize(line['sentence2']),\n",
        "                               \"label\":self.label_dict[line['gold_label']]})\n",
        "    \n",
        "    def __getitem__(self, index):\n",
        "        data = self.datas[index]\n",
        "        sentence1_text = torch.Tensor(data[\"sentence1\"][0]).long()\n",
        "        sentence2_text = torch.Tensor(data[\"sentence2\"][0]).long()\n",
        "        sentence1_mask = torch.Tensor(data[\"sentence1\"][1]).bool()\n",
        "        sentence2_mask = torch.Tensor(data[\"sentence2\"][1]).bool()\n",
        "        label = data[\"label\"]\n",
        "        return (sentence1_text, sentence1_mask, sentence2_text, sentence2_mask, label)\n",
        "    \n",
        "    def __len__(self):\n",
        "        return len(self.datas)\n",
        "\n",
        "    def _tokenize(self, line):\n",
        "        result = np.zeros((self.padding_length), dtype=np.long)   # <pad> : 0\n",
        "        mask = np.ones((self.padding_length), dtype=np.bool)\n",
        "\n",
        "        # 分词\n",
        "        text = nltk.word_tokenize(line)\n",
        "        length = min(len(text), self.padding_length)\n",
        "        mask[length:] = 0\n",
        "\n",
        "        # 序列化\n",
        "        unk_idx = self.vocab['word2idx']['<unk>']\n",
        "        for i, word in enumerate(text):\n",
        "            if i >= self.padding_length:\n",
        "                break\n",
        "\n",
        "            if not (word in self.vocab[\"word2idx\"]): # 不在词表的词\n",
        "                result[i] = unk_idx\n",
        "            else:\n",
        "                word_idx = self.vocab['word2idx'][word]\n",
        "                result[i] = word_idx\n",
        "        \n",
        "        return (result, mask)"
      ],
      "execution_count": null,
      "outputs": []
    },
    {
      "cell_type": "code",
      "metadata": {
        "id": "dkg5GSEn23qH"
      },
      "source": [
        "train_path = \"snli_1.0/snli_1.0_train.txt\"\n",
        "val_path = \"snli_1.0/snli_1.0_dev.txt\"\n",
        "test_path = \"snli_1.0/snli_1.0_test.txt\"\n",
        "\n",
        "train_dataset = SNLIDataset(train_path, glove_vocab, 40)\n",
        "val_dataset = SNLIDataset(val_path, glove_vocab, 40)\n",
        "test_dataset = SNLIDataset(test_path, glove_vocab, 40)"
      ],
      "execution_count": null,
      "outputs": []
    },
    {
      "cell_type": "code",
      "metadata": {
        "colab": {
          "base_uri": "https://localhost:8080/"
        },
        "id": "wK_6qMvP6bLF",
        "outputId": "9096127b-c8be-4a94-ee33-700e125e0227"
      },
      "source": [
        "val_dataset[1]"
      ],
      "execution_count": null,
      "outputs": [
        {
          "output_type": "execute_result",
          "data": {
            "text/plain": [
              "(tensor([   1,   82,   28, 1878,   62,  144,   74,  558, 1252,   11,    0,    0,\n",
              "            0,    0,    0,    0,    0,    0,    0,    0,    0,    0,    0,    0,\n",
              "            0,    0,    0,    0,    0,    0,    0,    0,    0,    0,    0,    0,\n",
              "            0,    0,    0,    0]),\n",
              " tensor([ True,  True,  True,  True,  True,  True,  True,  True,  True,  True,\n",
              "         False, False, False, False, False, False, False, False, False, False,\n",
              "         False, False, False, False, False, False, False, False, False, False,\n",
              "         False, False, False, False, False, False, False, False, False, False]),\n",
              " tensor([   1,  132,   28,  144, 1252,   11,    0,    0,    0,    0,    0,    0,\n",
              "            0,    0,    0,    0,    0,    0,    0,    0,    0,    0,    0,    0,\n",
              "            0,    0,    0,    0,    0,    0,    0,    0,    0,    0,    0,    0,\n",
              "            0,    0,    0,    0]),\n",
              " tensor([ True,  True,  True,  True,  True,  True, False, False, False, False,\n",
              "         False, False, False, False, False, False, False, False, False, False,\n",
              "         False, False, False, False, False, False, False, False, False, False,\n",
              "         False, False, False, False, False, False, False, False, False, False]),\n",
              " 2)"
            ]
          },
          "metadata": {},
          "execution_count": 12
        }
      ]
    },
    {
      "cell_type": "code",
      "metadata": {
        "id": "xnSPR7ZK9-br"
      },
      "source": [
        "import pickle\n",
        "\n",
        "cache = {\"glove_vocab\":glove_vocab,\n",
        "         \"train_dataset\":train_dataset,\n",
        "         \"val_dataset\":val_dataset,\n",
        "         \"test_dataset\":test_dataset}\n",
        "\n",
        "# 缓存预处理后的数据，加速多次训练\n",
        "with open(\"cache/preprocess.pickle\", 'wb') as fp:\n",
        "    pickle.dump(cache, fp)"
      ],
      "execution_count": null,
      "outputs": []
    },
    {
      "cell_type": "code",
      "metadata": {
        "id": "hfrafUBX-41H"
      },
      "source": [
        "import pickle\n",
        "\n",
        "# 读取缓存\n",
        "with open(\"cache/preprocess.pickle\", 'rb') as fp:\n",
        "    cache = pickle.load(fp)\n",
        "glove_vocab = cache[\"glove_vocab\"]\n",
        "train_dataset= cache[\"train_dataset\"]\n",
        "val_dataset= cache[\"val_dataset\"]\n",
        "test_dataset= cache[\"test_dataset\"]"
      ],
      "execution_count": null,
      "outputs": []
    },
    {
      "cell_type": "markdown",
      "metadata": {
        "id": "9SGO3c3M_TLi"
      },
      "source": [
        "## 2. ESIM模型\n",
        "这里只使用了LSTM+双向注意力机制实现该模型\n",
        "![截屏2021-09-05 下午4.20.36.png](data:image/png;base64,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)"
      ]
    },
    {
      "cell_type": "code",
      "metadata": {
        "id": "6coGo1a-C9OZ"
      },
      "source": [
        "import torch.nn as nn\n",
        "import torch.nn.functional as F\n",
        "\n",
        "# 初始化参数\n",
        "def init_weights(module):\n",
        "    if isinstance(module, nn.Linear):\n",
        "        nn.init.xavier_uniform_(module.weight.data)\n",
        "        nn.init.constant_(module.bias.data, 0.0)\n",
        "\n",
        "    elif isinstance(module, nn.LSTM):\n",
        "        nn.init.xavier_uniform_(module.weight_ih_l0.data)\n",
        "        nn.init.orthogonal_(module.weight_hh_l0.data)\n",
        "        nn.init.constant_(module.bias_ih_l0.data, 0.0)\n",
        "        nn.init.constant_(module.bias_hh_l0.data, 0.0)\n",
        "        hidden_size = module.bias_hh_l0.data.shape[0] // 4\n",
        "        module.bias_hh_l0.data[hidden_size:(2*hidden_size)] = 1.0\n",
        "\n",
        "        if (module.bidirectional):\n",
        "            nn.init.xavier_uniform_(module.weight_ih_l0_reverse.data)\n",
        "            nn.init.orthogonal_(module.weight_hh_l0_reverse.data)\n",
        "            nn.init.constant_(module.bias_ih_l0_reverse.data, 0.0)\n",
        "            nn.init.constant_(module.bias_hh_l0_reverse.data, 0.0)\n",
        "            module.bias_hh_l0_reverse.data[hidden_size:(2*hidden_size)] = 1.0 \n",
        "\n",
        "class ESIM(nn.Module):\n",
        "    def __init__(self, args, vocab):\n",
        "        super(ESIM, self).__init__()\n",
        "        self.args = args\n",
        "\n",
        "        # Embedding Layer\n",
        "        self.embedding = nn.Embedding.from_pretrained(vocab, freeze=True)\n",
        "\n",
        "        # Input Encoding Layer\n",
        "        self.encoding = nn.LSTM(input_size=args.embed_size,\n",
        "                                hidden_size=args.hidden_size,\n",
        "                                num_layers=1,\n",
        "                                batch_first=True,\n",
        "                                bidirectional=True)\n",
        "\n",
        "        # Feedforward Neural Networks Layer\n",
        "        self.projection = nn.Sequential(nn.Linear(4*2*args.hidden_size,\n",
        "                                                  args.hidden_size),\n",
        "                                        nn.ReLU())\n",
        "\n",
        "        # Inference Composition Layer\n",
        "        self.composition = nn.LSTM(input_size=args.hidden_size,\n",
        "                                   hidden_size=args.hidden_size,\n",
        "                                   num_layers=1,\n",
        "                                   batch_first=True,\n",
        "                                   bidirectional=True)\n",
        "\n",
        "        # Multilayer Perceptron classifier\n",
        "        self.classifier = nn.Sequential(nn.Linear(4*2*args.hidden_size,\n",
        "                                                  args.hidden_size),\n",
        "                                        nn.Tanh(),\n",
        "                                        nn.Dropout(p=args.dropout_rate),\n",
        "                                        nn.Linear(args.hidden_size,\n",
        "                                                  args.label_num))\n",
        "        \n",
        "\n",
        "        # Dropout Layer\n",
        "        self.dropout = nn.Dropout(args.dropout_rate)\n",
        "\n",
        "        self.apply(init_weights)\n",
        "\n",
        "    # bilstm编码\n",
        "    def _seq_encoding(self, lstm, seqs, seqs_mask):\n",
        "        outputs, _ = lstm(seqs)\n",
        "        masked_outputs = outputs * seqs_mask.view(-1, self.args.padded_length, 1)\n",
        "        return masked_outputs\n",
        "\n",
        "    def _attention(self, encoded_premise, encoded_hypothesis):\n",
        "        # Soft Alignment Layer\n",
        "        e = torch.einsum('bik,bjk->bij', encoded_premise, encoded_hypothesis)\n",
        "\n",
        "        # premise weight\n",
        "        premise_weight = F.softmax(e, dim=2)\n",
        "        attened_premise = torch.einsum(\"bij,bjk->bik\", premise_weight, encoded_hypothesis)\n",
        "\n",
        "        hypothesis_weight = F.softmax(e, dim=1)\n",
        "        attened_hypothesis = torch.einsum(\"bij,bik->bjk\", hypothesis_weight, encoded_premise)\n",
        "\n",
        "        return attened_premise, attened_hypothesis\n",
        "\n",
        "    def forward(self, \n",
        "                premise, \n",
        "                premise_mask,\n",
        "                hypothesis,\n",
        "                hypothesis_mask):\n",
        "        # Embedding Layer\n",
        "        # (batch_size, length) -> (batch_size, length, embed_dim)\n",
        "        embed_premise = self.embedding(premise)\n",
        "        embed_hypothesis = self.embedding(hypothesis)\n",
        "\n",
        "\n",
        "        # Input Encoding Layer\n",
        "        # (batch_size, length, embed_dim) -> (batch_size, length, 2 * hidden_dim)\n",
        "        encoded_premise = self._seq_encoding(self.encoding, \n",
        "                                             embed_premise, \n",
        "                                             premise_mask)\n",
        "        encoded_hypothesis = self._seq_encoding(self.encoding, \n",
        "                                                embed_hypothesis,\n",
        "                                                hypothesis_mask)\n",
        "        \n",
        "        # dropout\n",
        "        encoded_premise = self.dropout(encoded_premise)\n",
        "        encoded_hypothesis = self.dropout(encoded_hypothesis)\n",
        "\n",
        "\n",
        "        # Local Inference Modeling Layer\n",
        "        # Attention\n",
        "        attened_premise, attened_hypothesis = self._attention(encoded_premise, encoded_hypothesis)\n",
        "\n",
        "        # dropout\n",
        "        attened_premise = self.dropout(attened_premise)\n",
        "        attened_hypothesis = self.dropout(attened_hypothesis)\n",
        "\n",
        "        # Enhancement\n",
        "        # (batch_size, length, 2 * hidden_dim) -> (batch_size, length, 4 * 2 * hidden_dim)\n",
        "        enhanced_premise = torch.cat([encoded_premise,\n",
        "                                      attened_premise,\n",
        "                                      encoded_premise - attened_premise,\n",
        "                                      encoded_premise * attened_premise], dim=-1)\n",
        "        enhanced_hypothesis = torch.cat([encoded_hypothesis,\n",
        "                                         attened_hypothesis,\n",
        "                                         encoded_hypothesis - attened_hypothesis,\n",
        "                                         encoded_hypothesis * attened_hypothesis], dim=-1)\n",
        "        \n",
        "        # dropout\n",
        "        enhanced_premise = self.dropout(enhanced_premise)\n",
        "        enhanced_hypothesis = self.dropout(enhanced_hypothesis)\n",
        "\n",
        "        # Projection\n",
        "        # (batch_size, length, 4 * 2 * hidden_dim) -> (batch_size, length, hidden_dim)\n",
        "        projected_premise = self.projection(enhanced_premise)\n",
        "        projected_hypothesis = self.projection(enhanced_hypothesis)\n",
        "\n",
        "        # dropout\n",
        "        projected_premise = self.dropout(projected_premise)\n",
        "        projected_hypothesis = self.dropout(projected_hypothesis)\n",
        "\n",
        "\n",
        "        # Inference Composition Layer\n",
        "        # (batch_size, length, hidden_dim) -> (batch_size, length, 2 * hidden_dim)\n",
        "        composited_premise = self._seq_encoding(self.composition, \n",
        "                                                projected_premise, \n",
        "                                                premise_mask)\n",
        "        composited_hypothesis = self._seq_encoding(self.composition, \n",
        "                                                   projected_hypothesis,\n",
        "                                                   hypothesis_mask)\n",
        "        \n",
        "        # dropout\n",
        "        composited_premise = self.dropout(composited_premise)\n",
        "        composited_hypothesis = self.dropout(composited_hypothesis)\n",
        "        \n",
        "        # Pooling\n",
        "        # (batch_size, length, 2 * hidden_dim) -> (batch_size, 2 * hidden_dim)\n",
        "        masked_composited_premise = composited_premise * premise_mask.view(-1, self.args.padded_length, 1)\n",
        "        masked_composited_hypothesis =  composited_hypothesis * hypothesis_mask.view(-1, self.args.padded_length, 1)\n",
        "        \n",
        "        v_a_ave = torch.sum(masked_composited_premise, dim=1) / torch.sum(premise_mask, dim=1).view(-1, 1)\n",
        "        v_a_max, _ = torch.max(torch.masked_fill(composited_premise, ~premise_mask.view(-1, self.args.padded_length, 1), value=torch.tensor(-1e9)), dim=1)\n",
        "        \n",
        "        v_b_ave = torch.sum(masked_composited_hypothesis, dim=1) / torch.sum(hypothesis_mask, dim=1).view(-1, 1)\n",
        "        v_b_max, _ = torch.max(torch.masked_fill(composited_hypothesis, ~hypothesis_mask.view(-1, self.args.padded_length, 1), value=torch.tensor(-1e9)), dim=1)\n",
        "\n",
        "        # (batch_size, 2 * hidden_dim) -> (batch_size, 4 * 2 * hidden_dim)\n",
        "        v = torch.cat([v_a_ave, v_a_max, v_b_ave, v_b_max], dim=-1)\n",
        "\n",
        "        # dropout\n",
        "        v = self.dropout(v)\n",
        "        \n",
        "        # MLP Layer\n",
        "        # (batch_size, 4 * 2 * hidden_dim) -> (batch_size, 3)\n",
        "        out = self.classifier(v)\n",
        "        \n",
        "        return out"
      ],
      "execution_count": null,
      "outputs": []
    },
    {
      "cell_type": "markdown",
      "metadata": {
        "id": "znInOojhy8AM"
      },
      "source": [
        "## 3. 训练函数"
      ]
    },
    {
      "cell_type": "code",
      "metadata": {
        "id": "hi3DlQxiuLHw"
      },
      "source": [
        "from tqdm import tqdm\n",
        "\n",
        "def train_progress(args, model, optimizer, criterion, train_dataloader, val_dataloader, test_dataloader, device):\n",
        "    train_acc_arr = []\n",
        "    train_loss_arr = []\n",
        "    val_acc_arr = []\n",
        "    val_loss_arr = []\n",
        "    best_val_acc = 0.\n",
        "    best_val_epoch = -1\n",
        "    \n",
        "    for epoch in range(args.epochs):\n",
        "        print(f\"Epoch {epoch}:\")\n",
        "\n",
        "        # Training\n",
        "        train_len = 0\n",
        "        train_loss = 0.\n",
        "        train_acc = 0.\n",
        "\n",
        "        model.train()\n",
        "        for step, datas in tqdm(enumerate(train_dataloader), total=len(train_dataloader)):\n",
        "            optimizer.zero_grad()\n",
        "            \n",
        "            premise, premise_mask, hypothesis, hypothesis_mask, labels = [data.to(device) for data in datas]\n",
        "            \n",
        "            labels = labels.cpu()\n",
        "            output = model(premise, \n",
        "                           premise_mask, \n",
        "                           hypothesis, \n",
        "                           hypothesis_mask).cpu()\n",
        "            loss = criterion(output, labels)\n",
        "            pred = torch.argmax(output.view(-1, args.label_num), dim=-1)\n",
        "            acc = (pred == labels).float().sum()\n",
        "            \n",
        "            # 训练\n",
        "            loss.backward()\n",
        "            optimizer.step()\n",
        "\n",
        "            # 统计结果\n",
        "            size = labels.numel()\n",
        "            train_len += size\n",
        "            train_loss += loss.item()\n",
        "            train_acc += acc\n",
        "        \n",
        "        train_loss = train_loss / train_len\n",
        "        train_acc = train_acc / train_len\n",
        "        train_loss_arr.append(train_loss)\n",
        "        train_acc_arr.append(train_acc)\n",
        "        print(f\"Train: | loss: {train_loss} | acc: {train_acc}\")\n",
        "\n",
        "        # Validation\n",
        "        val_len = 0\n",
        "        val_loss = 0.\n",
        "        val_acc = 0.\n",
        "\n",
        "        model.eval()\n",
        "        with torch.no_grad():\n",
        "            for step, datas in enumerate(val_dataloader):\n",
        "                premise, premise_mask, hypothesis, hypothesis_mask, labels = [data.to(device) for data in datas]\n",
        "            \n",
        "                labels = labels.cpu()\n",
        "                output = model(premise, \n",
        "                           premise_mask, \n",
        "                           hypothesis, \n",
        "                           hypothesis_mask).cpu()\n",
        "                loss = criterion(output, labels)\n",
        "                pred = torch.argmax(output.view(-1, args.label_num), dim=-1)\n",
        "                acc = (pred == labels).float().sum()\n",
        "\n",
        "                # 统计结果\n",
        "                size = labels.numel()\n",
        "                val_len += size\n",
        "                val_loss += loss.item()\n",
        "                val_acc += acc\n",
        "            \n",
        "        val_loss = val_loss / val_len\n",
        "        val_acc = val_acc / val_len\n",
        "        val_loss_arr.append(val_loss)\n",
        "        val_acc_arr.append(val_acc)\n",
        "        print(f\"Validation: | loss: {val_loss} | acc: {val_acc}\")\n",
        "\n",
        "        if val_acc > best_val_acc:\n",
        "            best_val_acc = val_acc\n",
        "            best_val_epoch = epoch\n",
        "            torch.save(model.state_dict(), \"models/best_model.pth\")\n",
        "        \n",
        "        # Early stop\n",
        "        if epoch - best_val_epoch >= 5:\n",
        "            print(\"Early Stop!\")\n",
        "            break\n",
        "\n",
        "    # Test\n",
        "    best_checkpoint = torch.load(\"models/best_model.pth\")\n",
        "    model.load_state_dict(best_checkpoint)\n",
        "    test_len = 0\n",
        "    test_loss = 0.\n",
        "    test_acc = 0.\n",
        "\n",
        "    model.eval()\n",
        "    with torch.no_grad():\n",
        "        for step, datas in enumerate(test_dataloader):\n",
        "            premise, premise_mask, hypothesis, hypothesis_mask, labels = [data.to(device) for data in datas]\n",
        "            \n",
        "            labels = labels.cpu()\n",
        "            output = model(premise, \n",
        "                        premise_mask, \n",
        "                        hypothesis, \n",
        "                        hypothesis_mask).cpu()\n",
        "            loss = criterion(output, labels)\n",
        "            pred = torch.argmax(output.view(-1, args.label_num), dim=-1)\n",
        "            acc = (pred == labels).float().sum()\n",
        "\n",
        "            # 统计结果\n",
        "            size = labels.numel()\n",
        "            test_len += size\n",
        "            test_loss += loss.item()\n",
        "            test_acc += acc\n",
        "        \n",
        "    test_loss = test_loss / test_len\n",
        "    test_acc = test_acc / test_len\n",
        "    print(f\"\\n\\nFinal test: | loss: {test_loss} | acc: {test_acc}\")\n",
        "    return (train_loss_arr, train_acc_arr), (val_loss_arr, val_acc_arr)"
      ],
      "execution_count": null,
      "outputs": []
    },
    {
      "cell_type": "markdown",
      "metadata": {
        "id": "GKQlTyeLzXK2"
      },
      "source": [
        "## 4. 训练和分析\n",
        "### 4.1 超参数"
      ]
    },
    {
      "cell_type": "code",
      "metadata": {
        "id": "DlhBQ2UgzZXQ"
      },
      "source": [
        "class Arguments():\n",
        "    epochs = 50\n",
        "    batch_size = 256\n",
        "    lr = 5e-4\n",
        "    embed_size = 300\n",
        "    hidden_size = 300\n",
        "    padded_length = 40\n",
        "    dropout_rate = 0.5\n",
        "    label_num = 3\n",
        "    max_norm = 10.0"
      ],
      "execution_count": null,
      "outputs": []
    },
    {
      "cell_type": "markdown",
      "metadata": {
        "id": "50DXX0v6zv42"
      },
      "source": [
        "### 4.2 训练过程"
      ]
    },
    {
      "cell_type": "code",
      "metadata": {
        "id": "9U3SPYNPztQx"
      },
      "source": [
        "import torch.optim\n",
        "\n",
        "args = Arguments()\n",
        "device = torch.device('cuda' if torch.cuda.is_available() else 'cpu')\n",
        "vocab =  torch.Tensor(glove_vocab[\"glove_vectors\"])\n",
        "model = ESIM(args, vocab)\n",
        "optimizer = torch.optim.Adam(model.parameters(), lr=args.lr)\n",
        "criterion = nn.CrossEntropyLoss()\n",
        "\n",
        "if torch.cuda.is_available():\n",
        "    model.cuda()"
      ],
      "execution_count": null,
      "outputs": []
    },
    {
      "cell_type": "code",
      "metadata": {
        "colab": {
          "base_uri": "https://localhost:8080/"
        },
        "id": "22efHFk9z5IG",
        "outputId": "6d817ac9-0f8e-4f11-a944-5a3263c1102d"
      },
      "source": [
        "import torch.utils.data\n",
        "\n",
        "train_dataloader = torch.utils.data.DataLoader(dataset=train_dataset,\n",
        "                                           batch_size=args.batch_size,\n",
        "                                           shuffle=True)\n",
        "val_dataloader = torch.utils.data.DataLoader(dataset=val_dataset,\n",
        "                                           batch_size=args.batch_size,\n",
        "                                           shuffle=False)\n",
        "test_dataloader = torch.utils.data.DataLoader(dataset=test_dataset,\n",
        "                                           batch_size=args.batch_size,\n",
        "                                           shuffle=False)\n",
        "\n",
        "train_record, val_record = train_progress(args=args, \n",
        "                                          model=model,\n",
        "                                          optimizer=optimizer,\n",
        "                                          criterion=criterion,\n",
        "                                          train_dataloader=train_dataloader, \n",
        "                                          val_dataloader=val_dataloader, \n",
        "                                          test_dataloader=test_dataloader, \n",
        "                                          device=device)"
      ],
      "execution_count": null,
      "outputs": [
        {
          "metadata": {
            "tags": null
          },
          "name": "stdout",
          "output_type": "stream",
          "text": [
            "Epoch 0:\n"
          ]
        },
        {
          "metadata": {
            "tags": null
          },
          "name": "stderr",
          "output_type": "stream",
          "text": [
            "100%|██████████| 2146/2146 [03:33<00:00, 10.03it/s]\n"
          ]
        },
        {
          "metadata": {
            "tags": null
          },
          "name": "stdout",
          "output_type": "stream",
          "text": [
            "Train: | loss: 0.002986725652929027 | acc: 0.6633179187774658\n",
            "Validation: | loss: 0.0027747296434281147 | acc: 0.7021946907043457\n",
            "Epoch 1:\n"
          ]
        },
        {
          "metadata": {
            "tags": null
          },
          "name": "stderr",
          "output_type": "stream",
          "text": [
            "100%|██████████| 2146/2146 [03:33<00:00, 10.04it/s]\n"
          ]
        },
        {
          "metadata": {
            "tags": null
          },
          "name": "stdout",
          "output_type": "stream",
          "text": [
            "Train: | loss: 0.0024551478956233164 | acc: 0.742393434047699\n",
            "Validation: | loss: 0.0025389679646835995 | acc: 0.7370452880859375\n",
            "Epoch 2:\n"
          ]
        },
        {
          "metadata": {
            "tags": null
          },
          "name": "stderr",
          "output_type": "stream",
          "text": [
            "100%|██████████| 2146/2146 [03:33<00:00, 10.03it/s]\n"
          ]
        },
        {
          "metadata": {
            "tags": null
          },
          "name": "stdout",
          "output_type": "stream",
          "text": [
            "Train: | loss: 0.0022665991452912823 | acc: 0.7655767202377319\n",
            "Validation: | loss: 0.002225633983906632 | acc: 0.7793131470680237\n",
            "Epoch 3:\n"
          ]
        },
        {
          "metadata": {
            "tags": null
          },
          "name": "stderr",
          "output_type": "stream",
          "text": [
            "100%|██████████| 2146/2146 [03:34<00:00, 10.01it/s]\n"
          ]
        },
        {
          "metadata": {
            "tags": null
          },
          "name": "stdout",
          "output_type": "stream",
          "text": [
            "Train: | loss: 0.002155747190797441 | acc: 0.779656708240509\n",
            "Validation: | loss: 0.0020747876002570036 | acc: 0.7933346629142761\n",
            "Epoch 4:\n"
          ]
        },
        {
          "metadata": {
            "tags": null
          },
          "name": "stderr",
          "output_type": "stream",
          "text": [
            "100%|██████████| 2146/2146 [03:34<00:00, 10.01it/s]\n"
          ]
        },
        {
          "metadata": {
            "tags": null
          },
          "name": "stdout",
          "output_type": "stream",
          "text": [
            "Train: | loss: 0.0020678484620889844 | acc: 0.7903181910514832\n",
            "Validation: | loss: 0.002101006894377135 | acc: 0.7987197637557983\n",
            "Epoch 5:\n"
          ]
        },
        {
          "metadata": {
            "tags": null
          },
          "name": "stderr",
          "output_type": "stream",
          "text": [
            "100%|██████████| 2146/2146 [03:34<00:00, 10.01it/s]\n"
          ]
        },
        {
          "metadata": {
            "tags": null
          },
          "name": "stdout",
          "output_type": "stream",
          "text": [
            "Train: | loss: 0.002006118285058389 | acc: 0.7973281741142273\n",
            "Validation: | loss: 0.0019398289249089162 | acc: 0.8123348951339722\n",
            "Epoch 6:\n"
          ]
        },
        {
          "metadata": {
            "tags": null
          },
          "name": "stderr",
          "output_type": "stream",
          "text": [
            "100%|██████████| 2146/2146 [03:34<00:00, 10.02it/s]\n"
          ]
        },
        {
          "metadata": {
            "tags": null
          },
          "name": "stdout",
          "output_type": "stream",
          "text": [
            "Train: | loss: 0.0019532047772693054 | acc: 0.803735613822937\n",
            "Validation: | loss: 0.001877657074410846 | acc: 0.8205649256706238\n",
            "Epoch 7:\n"
          ]
        },
        {
          "metadata": {
            "tags": null
          },
          "name": "stderr",
          "output_type": "stream",
          "text": [
            "100%|██████████| 2146/2146 [03:34<00:00, 10.02it/s]\n"
          ]
        },
        {
          "metadata": {
            "tags": null
          },
          "name": "stdout",
          "output_type": "stream",
          "text": [
            "Train: | loss: 0.0019029949202765963 | acc: 0.8101394176483154\n",
            "Validation: | loss: 0.0019119159976923959 | acc: 0.8144686222076416\n",
            "Epoch 8:\n"
          ]
        },
        {
          "metadata": {
            "tags": null
          },
          "name": "stderr",
          "output_type": "stream",
          "text": [
            "100%|██████████| 2146/2146 [03:34<00:00, 10.00it/s]\n"
          ]
        },
        {
          "metadata": {
            "tags": null
          },
          "name": "stdout",
          "output_type": "stream",
          "text": [
            "Train: | loss: 0.0018609057698724804 | acc: 0.8148193955421448\n",
            "Validation: | loss: 0.0018301976905608414 | acc: 0.8204632997512817\n",
            "Epoch 9:\n"
          ]
        },
        {
          "metadata": {
            "tags": null
          },
          "name": "stderr",
          "output_type": "stream",
          "text": [
            "100%|██████████| 2146/2146 [03:34<00:00, 10.00it/s]\n"
          ]
        },
        {
          "metadata": {
            "tags": null
          },
          "name": "stdout",
          "output_type": "stream",
          "text": [
            "Train: | loss: 0.0018243771353483702 | acc: 0.8190224766731262\n",
            "Validation: | loss: 0.001828792351480665 | acc: 0.8218858242034912\n",
            "Epoch 10:\n"
          ]
        },
        {
          "output_type": "stream",
          "name": "stderr",
          "text": [
            "100%|██████████| 2146/2146 [03:34<00:00, 10.01it/s]\n"
          ]
        },
        {
          "output_type": "stream",
          "name": "stdout",
          "text": [
            "Train: | loss: 0.0017866399480019556 | acc: 0.8228068351745605\n",
            "Validation: | loss: 0.0018676918494316215 | acc: 0.8235114812850952\n",
            "Epoch 11:\n"
          ]
        },
        {
          "output_type": "stream",
          "name": "stderr",
          "text": [
            "100%|██████████| 2146/2146 [03:34<00:00, 10.02it/s]\n"
          ]
        },
        {
          "output_type": "stream",
          "name": "stdout",
          "text": [
            "Train: | loss: 0.0017507104170775918 | acc: 0.8269407749176025\n",
            "Validation: | loss: 0.0018072351737614448 | acc: 0.8272708654403687\n",
            "Epoch 12:\n"
          ]
        },
        {
          "output_type": "stream",
          "name": "stderr",
          "text": [
            "100%|██████████| 2146/2146 [03:34<00:00, 10.01it/s]\n"
          ]
        },
        {
          "output_type": "stream",
          "name": "stdout",
          "text": [
            "Train: | loss: 0.0017114263896467906 | acc: 0.831506073474884\n",
            "Validation: | loss: 0.001814304822418075 | acc: 0.8274741172790527\n",
            "Epoch 13:\n"
          ]
        },
        {
          "output_type": "stream",
          "name": "stderr",
          "text": [
            "100%|██████████| 2146/2146 [03:34<00:00, 10.00it/s]\n"
          ]
        },
        {
          "output_type": "stream",
          "name": "stdout",
          "text": [
            "Train: | loss: 0.0016791098123287995 | acc: 0.8357400894165039\n",
            "Validation: | loss: 0.0017729989519644452 | acc: 0.8312335014343262\n",
            "Epoch 14:\n"
          ]
        },
        {
          "output_type": "stream",
          "name": "stderr",
          "text": [
            "100%|██████████| 2146/2146 [03:34<00:00, 10.00it/s]\n"
          ]
        },
        {
          "output_type": "stream",
          "name": "stdout",
          "text": [
            "Train: | loss: 0.001648016387559359 | acc: 0.8389674425125122\n",
            "Validation: | loss: 0.0017915257192002009 | acc: 0.8279821276664734\n",
            "Epoch 15:\n"
          ]
        },
        {
          "output_type": "stream",
          "name": "stderr",
          "text": [
            "100%|██████████| 2146/2146 [03:34<00:00, 10.00it/s]\n"
          ]
        },
        {
          "output_type": "stream",
          "name": "stdout",
          "text": [
            "Train: | loss: 0.0016160693866843004 | acc: 0.8425770998001099\n",
            "Validation: | loss: 0.001778045385694436 | acc: 0.8320463299751282\n",
            "Epoch 16:\n"
          ]
        },
        {
          "output_type": "stream",
          "name": "stderr",
          "text": [
            "100%|██████████| 2146/2146 [03:34<00:00, 10.02it/s]\n"
          ]
        },
        {
          "output_type": "stream",
          "name": "stdout",
          "text": [
            "Train: | loss: 0.0015812932438982084 | acc: 0.8468857407569885\n",
            "Validation: | loss: 0.0018340703240014556 | acc: 0.8272708654403687\n",
            "Epoch 17:\n"
          ]
        },
        {
          "output_type": "stream",
          "name": "stderr",
          "text": [
            "100%|██████████| 2146/2146 [03:34<00:00, 10.01it/s]\n"
          ]
        },
        {
          "output_type": "stream",
          "name": "stdout",
          "text": [
            "Train: | loss: 0.0015508773575775014 | acc: 0.8501204252243042\n",
            "Validation: | loss: 0.001781195953255188 | acc: 0.8311318755149841\n",
            "Epoch 18:\n"
          ]
        },
        {
          "output_type": "stream",
          "name": "stderr",
          "text": [
            "100%|██████████| 2146/2146 [03:34<00:00,  9.99it/s]\n"
          ]
        },
        {
          "output_type": "stream",
          "name": "stdout",
          "text": [
            "Train: | loss: 0.0015180134694658344 | acc: 0.8533641695976257\n",
            "Validation: | loss: 0.0017879827977970977 | acc: 0.8330624103546143\n",
            "Epoch 19:\n"
          ]
        },
        {
          "output_type": "stream",
          "name": "stderr",
          "text": [
            "100%|██████████| 2146/2146 [03:34<00:00,  9.99it/s]\n"
          ]
        },
        {
          "output_type": "stream",
          "name": "stdout",
          "text": [
            "Train: | loss: 0.0014894772673842078 | acc: 0.8566625714302063\n",
            "Validation: | loss: 0.001818021022432874 | acc: 0.8315383195877075\n",
            "Epoch 20:\n"
          ]
        },
        {
          "output_type": "stream",
          "name": "stderr",
          "text": [
            "100%|██████████| 2146/2146 [03:34<00:00, 10.00it/s]\n"
          ]
        },
        {
          "output_type": "stream",
          "name": "stdout",
          "text": [
            "Train: | loss: 0.0014622911258700797 | acc: 0.8596569299697876\n",
            "Validation: | loss: 0.0018239680634502277 | acc: 0.8367201685905457\n",
            "Epoch 21:\n"
          ]
        },
        {
          "output_type": "stream",
          "name": "stderr",
          "text": [
            "100%|██████████| 2146/2146 [03:34<00:00, 10.01it/s]\n"
          ]
        },
        {
          "output_type": "stream",
          "name": "stdout",
          "text": [
            "Train: | loss: 0.0014261828594826671 | acc: 0.8631446361541748\n",
            "Validation: | loss: 0.0017968279102715359 | acc: 0.8311318755149841\n",
            "Epoch 22:\n"
          ]
        },
        {
          "output_type": "stream",
          "name": "stderr",
          "text": [
            "100%|██████████| 2146/2146 [03:34<00:00, 10.01it/s]\n"
          ]
        },
        {
          "output_type": "stream",
          "name": "stdout",
          "text": [
            "Train: | loss: 0.0013969555421736166 | acc: 0.8669581413269043\n",
            "Validation: | loss: 0.0018391302659777552 | acc: 0.8319447040557861\n",
            "Epoch 23:\n"
          ]
        },
        {
          "output_type": "stream",
          "name": "stderr",
          "text": [
            "100%|██████████| 2146/2146 [03:34<00:00,  9.99it/s]\n"
          ]
        },
        {
          "output_type": "stream",
          "name": "stdout",
          "text": [
            "Train: | loss: 0.0013693461964357514 | acc: 0.8700326085090637\n",
            "Validation: | loss: 0.0018290859930788059 | acc: 0.8335704207420349\n",
            "Epoch 24:\n"
          ]
        },
        {
          "output_type": "stream",
          "name": "stderr",
          "text": [
            "100%|██████████| 2146/2146 [03:34<00:00, 10.00it/s]\n"
          ]
        },
        {
          "output_type": "stream",
          "name": "stdout",
          "text": [
            "Train: | loss: 0.0013381519821867702 | acc: 0.8738116025924683\n",
            "Validation: | loss: 0.0018715872933675157 | acc: 0.8315383195877075\n",
            "Epoch 25:\n"
          ]
        },
        {
          "output_type": "stream",
          "name": "stderr",
          "text": [
            "100%|██████████| 2146/2146 [03:34<00:00, 10.00it/s]\n"
          ]
        },
        {
          "output_type": "stream",
          "name": "stdout",
          "text": [
            "Train: | loss: 0.0013115987879333654 | acc: 0.8761925101280212\n",
            "Validation: | loss: 0.001838009069421819 | acc: 0.8339768052101135\n",
            "Early Stop!\n",
            "\n",
            "\n",
            "Final test: | loss: 0.0018209738790357928 | acc: 0.8338761925697327\n"
          ]
        }
      ]
    },
    {
      "cell_type": "markdown",
      "metadata": {
        "id": "jbqTVbsIqkoN"
      },
      "source": [
        "### 4.3 结果分析"
      ]
    },
    {
      "cell_type": "code",
      "metadata": {
        "colab": {
          "base_uri": "https://localhost:8080/",
          "height": 295
        },
        "id": "K1o2URjQqj82",
        "outputId": "97dce888-8c6c-44d0-dec1-77d487b5336b"
      },
      "source": [
        "import matplotlib.pyplot as plt\n",
        "\n",
        "experiment_epoch = range(1, len(train_record[0]) + 1)\n",
        "plt.plot(experiment_epoch, train_record[0], label='Train')\n",
        "plt.plot(experiment_epoch, val_record[0], label='Val')\n",
        "plt.title('Loss')\n",
        "plt.xlabel('Epochs')\n",
        "plt.ylabel('Loss')\n",
        "plt.legend()\n",
        "plt.show()"
      ],
      "execution_count": null,
      "outputs": [
        {
          "output_type": "display_data",
          "data": {
            "image/png": "[encoded data removed]",
            "text/plain": [
              "<Figure size 432x288 with 1 Axes>"
            ]
          },
          "metadata": {
            "needs_background": "light"
          }
        }
      ]
    },
    {
      "cell_type": "code",
      "metadata": {
        "colab": {
          "base_uri": "https://localhost:8080/",
          "height": 295
        },
        "id": "DCJJ6_HXqlbx",
        "outputId": "4935c85c-6d55-4d93-c064-342611fdbd33"
      },
      "source": [
        "experiment_epoch = range(1, len(train_record[1]) + 1)\n",
        "plt.plot(experiment_epoch, train_record[1], label='Train')\n",
        "plt.plot(experiment_epoch, val_record[1], label='Val')\n",
        "plt.title('Accuracy')\n",
        "plt.xlabel('Epochs')\n",
        "plt.ylabel('Acc')\n",
        "plt.legend()\n",
        "plt.show()"
      ],
      "execution_count": null,
      "outputs": [
        {
          "output_type": "display_data",
          "data": {
            "image/png": "[encoded data removed]",
            "text/plain": [
              "<Figure size 432x288 with 1 Axes>"
            ]
          },
          "metadata": {
            "needs_background": "light"
          }
        }
      ]
    },
    {
      "cell_type": "markdown",
      "metadata": {
        "id": "7qPXHkzusbhO"
      },
      "source": [
        "从上面两张图可以看出，训练集的损失值和正确率都还在变好，但是验证集已经趋向于收敛，说明模型已经过拟合了。测试集上的结果是使用验证集上准确率最高对应的模型参数测出来的，准确率为83.39%，这个结果和论文给出的结果有点差距，可能是batch_size调太大，或者是随机数的问题。"
      ]
    }
  ]
}